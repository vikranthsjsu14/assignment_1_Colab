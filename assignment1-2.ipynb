{
  "nbformat": 4,
  "nbformat_minor": 0,
  "metadata": {
    "colab": {
      "provenance": []
    },
    "kernelspec": {
      "name": "python3",
      "display_name": "Python 3"
    },
    "language_info": {
      "name": "python"
    }
  },
  "cells": [
    {
      "cell_type": "code",
      "execution_count": null,
      "metadata": {
        "colab": {
          "base_uri": "https://localhost:8080/"
        },
        "id": "qEjFqaBmoUQk",
        "outputId": "1b1b7ab3-d151-4d24-985e-0a635ea9a7d8"
      },
      "outputs": [
        {
          "output_type": "stream",
          "name": "stdout",
          "text": [
            "Hello World\n",
            "Vikranth\n",
            "5 + 2 = 7\n",
            "5 % 2 = 1\n",
            "5 // 2 = 2\n",
            "(1 + 2 - 3) * 2 = 0\n",
            "I dont like new lines\n"
          ]
        }
      ],
      "source": [
        "import random\n",
        "import sys\n",
        "import os\n",
        "\n",
        "print(\"Hello World\")\n",
        "name = \"Vikranth\"\n",
        "print(name)\n",
        "\n",
        "print(\"5 + 2 =\", 5+2)\n",
        "print(\"5 % 2 =\", 5%2)\n",
        "print(\"5 // 2 =\", 5//2)\n",
        "print(\"(1 + 2 - 3) * 2 =\", (1 + 2 - 3) * 2 )\n",
        "\n",
        "print(\"I dont like \", end=\"\")\n",
        "print(\"new lines\")"
      ]
    },
    {
      "cell_type": "code",
      "source": [
        "#Lists\n",
        "import random\n",
        "import sys\n",
        "import os\n",
        "\n",
        "grocery_list = ['Apples', 'Juice', 'Tomatoes', 'Potatoes']\n",
        "print('First Item', grocery_list[0])\n",
        "print(grocery_list[1:3])\n",
        "\n",
        "other_events = ['Wash Car', 'Pick up Kids']\n",
        "to_do_list = [other_events, grocery_list]\n",
        "print(to_do_list)\n",
        "print((to_do_list[1][1]))\n",
        "grocery_list.append('Onions')\n",
        "print(to_do_list)\n",
        "grocery_list.insert(1, 'Pickle')\n",
        "grocery_list.remove('Pickle')\n",
        "grocery_list.sort()\n",
        "del grocery_list[3]\n",
        "print(to_do_list)\n",
        "to_do_list2 = other_events + grocery_list\n",
        "print(len(to_do_list2))\n",
        "print(max(to_do_list2))\n",
        "print(min(to_do_list2))"
      ],
      "metadata": {
        "colab": {
          "base_uri": "https://localhost:8080/"
        },
        "id": "rUKXCIuYs0iG",
        "outputId": "33f29ed8-6bc5-492c-a153-abc21059be31"
      },
      "execution_count": null,
      "outputs": [
        {
          "output_type": "stream",
          "name": "stdout",
          "text": [
            "First Item Apples\n",
            "['Juice', 'Tomatoes']\n",
            "[['Wash Car', 'Pick up Kids'], ['Apples', 'Juice', 'Tomatoes', 'Potatoes']]\n",
            "Juice\n",
            "[['Wash Car', 'Pick up Kids'], ['Apples', 'Juice', 'Tomatoes', 'Potatoes', 'Onions']]\n",
            "[['Wash Car', 'Pick up Kids'], ['Apples', 'Juice', 'Onions', 'Tomatoes']]\n",
            "6\n",
            "Wash Car\n",
            "Apples\n"
          ]
        }
      ]
    },
    {
      "cell_type": "code",
      "source": [
        "#Tuples\n",
        "import random\n",
        "import sys\n",
        "import os\n",
        "\n",
        "pi_tuple = (3,1,2,5,8)\n",
        "new_tuple = list(pi_tuple)\n",
        "len(tuple\n",
        "    )"
      ],
      "metadata": {
        "id": "dZlFBUawtnvG"
      },
      "execution_count": null,
      "outputs": []
    },
    {
      "cell_type": "code",
      "source": [
        "#dictionary\n",
        "import random\n",
        "import sys\n",
        "import os\n",
        "\n",
        "super_villians = {'Fiddler': 'Isaac Bowin',\n",
        "                  'Caption Cold': 'Leonard Snart'}\n",
        "print(super_villians['Caption Cold'])\n",
        "del super_villians['Fiddler']\n",
        "super_villians['Pied Piper'] = 'Harley Rathaway'\n",
        "print(super_villians.get(\"Pled Piper\"))\n",
        "print(super_villians.keys())\n",
        "print(super_villians.values())"
      ],
      "metadata": {
        "colab": {
          "base_uri": "https://localhost:8080/"
        },
        "id": "q7ixK2kNvSb9",
        "outputId": "7dde7684-53fa-44d0-c6ab-ccca9057acbe"
      },
      "execution_count": null,
      "outputs": [
        {
          "output_type": "stream",
          "name": "stdout",
          "text": [
            "Leonard Snart\n",
            "None\n",
            "dict_keys(['Caption Cold', 'Pied Piper'])\n",
            "dict_values(['Leonard Snart', 'Harley Rathaway'])\n"
          ]
        }
      ]
    },
    {
      "cell_type": "code",
      "source": [
        "#conditionals\n",
        "import random\n",
        "import sys\n",
        "import os\n",
        "\n",
        "age = 21\n",
        "if age > 16:\n",
        "  print(\"You're good to drive\")\n",
        "else:\n",
        "  print(\"You're not good to drive\")\n",
        "\n",
        "if age >= 21:\n",
        "  print(\"You are old enoguh to drive\")\n",
        "elif age >= 16:\n",
        "  print(\"you are enough to drive a car\")\n",
        "else:\n",
        "  print(\"You are not good to drive\")\n",
        "\n",
        "\n"
      ],
      "metadata": {
        "colab": {
          "base_uri": "https://localhost:8080/"
        },
        "id": "OaTVcj2mwJCu",
        "outputId": "40794397-65ba-438b-e4c4-13e60ef678c1"
      },
      "execution_count": null,
      "outputs": [
        {
          "output_type": "stream",
          "name": "stdout",
          "text": [
            "You're good to drive\n",
            "You are old enoguh to drive\n"
          ]
        }
      ]
    },
    {
      "cell_type": "code",
      "source": [
        "#Loops\n",
        "import random\n",
        "import sys\n",
        "import os\n",
        "\n",
        "for x in range(0,10):\n",
        "  print(x, '', end =\"\")\n",
        "print(\"\\n\")\n",
        "grocery_list = ['Apples', 'Juice', 'Tomatoes', 'Potatoes']\n",
        "for y in grocery_list:\n",
        "  print(y, '', end=\"\")\n",
        "print('\\n')\n",
        "num_list = [[1,2,3],[10,20,30]]\n",
        "for x in range(0,2):\n",
        "  for y in range(0,3):\n",
        "    print(num_list[x][y])"
      ],
      "metadata": {
        "colab": {
          "base_uri": "https://localhost:8080/"
        },
        "id": "vK7Dzygr3L6i",
        "outputId": "26f9d007-2c66-4120-ff38-413a5794bc1d"
      },
      "execution_count": null,
      "outputs": [
        {
          "output_type": "stream",
          "name": "stdout",
          "text": [
            "0 1 2 3 4 5 6 7 8 9 \n",
            "\n",
            "Apples Juice Tomatoes Potatoes \n",
            "\n",
            "1\n",
            "2\n",
            "3\n",
            "10\n",
            "20\n",
            "30\n"
          ]
        }
      ]
    },
    {
      "cell_type": "code",
      "source": [
        "#while loop\n",
        "import random\n",
        "import sys\n",
        "import os\n",
        "\n",
        "random_num = random.randrange(0,100)\n",
        "while (random_num != 15):\n",
        "  print(random_num)\n",
        "  random_num = random.randrange(0,100)\n",
        "print('\\n')\n",
        "i = 0;\n",
        "while(i <= 20):\n",
        "  if(i%2 == 0):\n",
        "    print(i)\n",
        "  elif(i==9):\n",
        "    break\n",
        "  else:\n",
        "    i += 1\n",
        "    continue\n",
        "  i+= 1"
      ],
      "metadata": {
        "colab": {
          "base_uri": "https://localhost:8080/"
        },
        "collapsed": true,
        "id": "kV87-xks4mOb",
        "outputId": "a004189b-4e03-413f-d562-e68a8d19b307"
      },
      "execution_count": null,
      "outputs": [
        {
          "output_type": "stream",
          "name": "stdout",
          "text": [
            "94\n",
            "79\n",
            "66\n",
            "82\n",
            "11\n",
            "5\n",
            "51\n",
            "88\n",
            "44\n",
            "44\n",
            "0\n",
            "65\n",
            "87\n",
            "70\n",
            "57\n",
            "37\n",
            "64\n",
            "57\n",
            "27\n",
            "97\n",
            "36\n",
            "51\n",
            "69\n",
            "40\n",
            "28\n",
            "25\n",
            "66\n",
            "84\n",
            "35\n",
            "75\n",
            "26\n",
            "81\n",
            "8\n",
            "44\n",
            "42\n",
            "12\n",
            "20\n",
            "83\n",
            "26\n",
            "74\n",
            "5\n",
            "33\n",
            "79\n",
            "56\n",
            "63\n",
            "36\n",
            "14\n",
            "76\n",
            "45\n",
            "97\n",
            "59\n",
            "47\n",
            "96\n",
            "53\n",
            "96\n",
            "74\n",
            "0\n",
            "79\n",
            "43\n",
            "34\n",
            "89\n",
            "52\n",
            "78\n",
            "83\n",
            "45\n",
            "42\n",
            "21\n",
            "93\n",
            "16\n",
            "74\n",
            "8\n",
            "63\n",
            "89\n",
            "49\n",
            "48\n",
            "35\n",
            "63\n",
            "12\n",
            "86\n",
            "86\n",
            "33\n",
            "28\n",
            "35\n",
            "47\n",
            "21\n",
            "31\n",
            "72\n",
            "99\n",
            "36\n",
            "70\n",
            "86\n",
            "90\n",
            "67\n",
            "83\n",
            "94\n",
            "8\n",
            "92\n",
            "79\n",
            "76\n",
            "16\n",
            "94\n",
            "19\n",
            "85\n",
            "5\n",
            "24\n",
            "54\n",
            "44\n",
            "28\n",
            "5\n",
            "95\n",
            "82\n",
            "27\n",
            "1\n",
            "11\n",
            "86\n",
            "2\n",
            "81\n",
            "24\n",
            "62\n",
            "41\n",
            "71\n",
            "49\n",
            "83\n",
            "96\n",
            "78\n",
            "99\n",
            "9\n",
            "98\n",
            "85\n",
            "97\n",
            "97\n",
            "92\n",
            "82\n",
            "59\n",
            "98\n",
            "30\n",
            "77\n",
            "81\n",
            "20\n",
            "9\n",
            "97\n",
            "19\n",
            "17\n",
            "73\n",
            "66\n",
            "75\n",
            "51\n",
            "7\n",
            "66\n",
            "36\n",
            "75\n",
            "33\n",
            "37\n",
            "93\n",
            "10\n",
            "7\n",
            "32\n",
            "11\n",
            "30\n",
            "22\n",
            "64\n",
            "97\n",
            "97\n",
            "78\n",
            "9\n",
            "94\n",
            "83\n",
            "28\n",
            "2\n",
            "62\n",
            "69\n",
            "12\n",
            "91\n",
            "69\n",
            "67\n",
            "72\n",
            "29\n",
            "39\n",
            "74\n",
            "27\n",
            "2\n",
            "43\n",
            "0\n",
            "2\n",
            "48\n",
            "72\n",
            "77\n",
            "50\n",
            "68\n",
            "19\n",
            "55\n",
            "86\n",
            "94\n",
            "18\n",
            "51\n",
            "93\n",
            "76\n",
            "88\n",
            "82\n",
            "46\n",
            "44\n",
            "88\n",
            "89\n",
            "16\n",
            "89\n",
            "85\n",
            "85\n",
            "49\n",
            "88\n",
            "61\n",
            "65\n",
            "\n",
            "\n",
            "0\n",
            "2\n",
            "4\n",
            "6\n",
            "8\n"
          ]
        }
      ]
    },
    {
      "cell_type": "code",
      "source": [
        "#functions\n",
        "import random\n",
        "import sys\n",
        "import os\n",
        "\n",
        "def addNumber(fNum, lNum):\n",
        "  sumNum = fNum + lNum\n",
        "  return sumNum\n",
        "\n",
        "addNumber(2,4)"
      ],
      "metadata": {
        "colab": {
          "base_uri": "https://localhost:8080/"
        },
        "id": "ZFdxoqP26Tci",
        "outputId": "f0ee6a00-5b86-4d1c-c9b6-405c82188c3a"
      },
      "execution_count": null,
      "outputs": [
        {
          "output_type": "execute_result",
          "data": {
            "text/plain": [
              "6"
            ]
          },
          "metadata": {},
          "execution_count": 39
        }
      ]
    },
    {
      "cell_type": "code",
      "source": [
        "#input\n",
        "import random\n",
        "import sys\n",
        "import os\n",
        "\n",
        "long_string = \"Ill catch you if you call - the floor\"\n",
        "print(long_string.find(\"floor\"))\n",
        "print(long_string[0:5])\n",
        "\n",
        "print(\"%c is my %s letter and my number %d number is %.5f\" %\n",
        "  ('X', 'favorite', 1, .14))\n"
      ],
      "metadata": {
        "colab": {
          "base_uri": "https://localhost:8080/"
        },
        "id": "KNmw2nlf65qM",
        "outputId": "e5bbcc63-d03f-4bfe-9f6f-c2b1733bb84a"
      },
      "execution_count": null,
      "outputs": [
        {
          "output_type": "stream",
          "name": "stdout",
          "text": [
            "32\n",
            "Ill c\n",
            "X is my favorite letter and my number 1 number is 0.14000\n"
          ]
        }
      ]
    },
    {
      "cell_type": "code",
      "source": [
        "#Fileio\n",
        "import random\n",
        "import sys\n",
        "import os\n",
        "\n",
        "test_file = open(\"test.txt\", \"wb\")\n",
        "\n",
        "print(test_file.mode)\n",
        "print(test_file.name)\n",
        "test_file.write(bytes(\"Write me to the file\\n\", 'UTF-8'))\n",
        "test_file.close()\n",
        "\n",
        "test_file = open(\"test.txt\", \"r+\")\n",
        "text_in_file = test_file.read()\n",
        "print(text_in_file)\n",
        "\n",
        "os.remove(\"test.txt\")"
      ],
      "metadata": {
        "colab": {
          "base_uri": "https://localhost:8080/"
        },
        "id": "bxbinEN79pAl",
        "outputId": "90489fec-ae02-4706-d7be-60065bfe6683"
      },
      "execution_count": null,
      "outputs": [
        {
          "output_type": "stream",
          "name": "stdout",
          "text": [
            "wb\n",
            "test.txt\n",
            "Write me to the file\n",
            "\n"
          ]
        }
      ]
    },
    {
      "cell_type": "code",
      "source": [
        "#object\n",
        "import random\n",
        "import sys\n",
        "import os\n",
        "\n",
        "class Animal:\n",
        "  __name = \"\"\n",
        "  __height = 0\n",
        "  __weight = 0\n",
        "  __sound = 0\n",
        "\n",
        "  def __init__(self, name, height, weight, sound):\n",
        "    self.__name = name\n",
        "    self.__height = height\n",
        "    self.__weight = weight\n",
        "    self.__sound = sound\n",
        "\n",
        "  def set_height(self, height):\n",
        "    self.__height = height\n",
        "\n",
        "  def set_weight(self, weight):\n",
        "    self.__weight = weight\n",
        "\n",
        "  def set_sound(self, sound):\n",
        "    self.__sound = sound\n",
        "\n",
        "  def set_name(self, name):\n",
        "    self.__name = name\n",
        "\n",
        "  def get_name(self):\n",
        "    return self.__name\n",
        "\n",
        "  def get_height(self):\n",
        "    return self.__height\n",
        "\n",
        "  def get_weight(self):\n",
        "    return self.__weight\n",
        "\n",
        "  def get_sound(self):\n",
        "    return self.__sound\n",
        "\n",
        "  def get_type(self):\n",
        "    print(\"Animal\")\n",
        "\n",
        "  def toString(self):\n",
        "    return \"{} is {} cm tall and {} kilograms and say {}\". format(self.__name,\n",
        "                                                                  self.__height,\n",
        "                                                                  self.__weight,\n",
        "                                                                  self.__sound)\n",
        "\n",
        "cat = Animal('Whiskers', 33, 10, 'Meow')\n",
        "\n",
        "print(cat.toString())\n",
        "\n",
        "\n",
        "\n"
      ],
      "metadata": {
        "colab": {
          "base_uri": "https://localhost:8080/"
        },
        "id": "K1dnS-OK-10N",
        "outputId": "6b9092b0-6a19-4ffe-db18-180d79125800"
      },
      "execution_count": null,
      "outputs": [
        {
          "output_type": "stream",
          "name": "stdout",
          "text": [
            "Whiskers is 33 cm tall and 10 kilograms and say Meow\n"
          ]
        }
      ]
    }
  ]
}